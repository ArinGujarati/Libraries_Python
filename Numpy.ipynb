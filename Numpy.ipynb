{
 "cells": [
  {
   "cell_type": "markdown",
   "id": "ba667988",
   "metadata": {},
   "source": [
    "#### Advantages of Numpy\n",
    "\n",
    "- Memory efficient\n",
    "- Speed\n",
    "- Ease of use\n",
    "- Lot of functionalities to do mathematical operations easily."
   ]
  },
  {
   "cell_type": "markdown",
   "id": "365123bd",
   "metadata": {},
   "source": [
    "## how to import numpy package"
   ]
  },
  {
   "cell_type": "code",
   "execution_count": 135,
   "id": "1e19264b",
   "metadata": {},
   "outputs": [],
   "source": [
    "import numpy as np"
   ]
  },
  {
   "cell_type": "code",
   "execution_count": 136,
   "id": "0ec28796",
   "metadata": {},
   "outputs": [
    {
     "name": "stdout",
     "output_type": "stream",
     "text": [
      "[ 68  42 178  90 134 180 176]\n"
     ]
    }
   ],
   "source": [
    "# multiply all element in the list\n",
    "arr1 = np.array([34, 21, 89, 45, 67, 90, 88])\n",
    "print(arr1 * 2)"
   ]
  },
  {
   "cell_type": "code",
   "execution_count": 137,
   "id": "e2ff675d",
   "metadata": {},
   "outputs": [
    {
     "data": {
      "text/plain": [
       "array(['34', '78', '90', '55', '44', '32', '76.5', 'Python'], dtype='<U32')"
      ]
     },
     "execution_count": 137,
     "metadata": {},
     "output_type": "execute_result"
    }
   ],
   "source": [
    "# Convert Into Str\n",
    "list2 = [34, 78, 90, 55, 44, 32, 76.5, 'Python']\n",
    "np.array(list2)"
   ]
  },
  {
   "cell_type": "markdown",
   "id": "5750f547",
   "metadata": {},
   "source": [
    "### Using functions to create Arrays\n",
    "\n",
    "- np.arange\n",
    "- np.ones\n",
    "- np.zeros\n",
    "- np.full\n",
    "- np.linspace\n",
    "- np.random.random\n",
    "- np.random.randint\n",
    "- np.diag\n",
    "- np.eye"
   ]
  },
  {
   "cell_type": "markdown",
   "id": "6c4be868",
   "metadata": {},
   "source": [
    "#### np.arange function"
   ]
  },
  {
   "cell_type": "code",
   "execution_count": 138,
   "id": "1c4da722",
   "metadata": {},
   "outputs": [
    {
     "data": {
      "text/plain": [
       "array([0, 1, 2, 3, 4, 5, 6, 7, 8, 9])"
      ]
     },
     "execution_count": 138,
     "metadata": {},
     "output_type": "execute_result"
    }
   ],
   "source": [
    "np.arange(10)"
   ]
  },
  {
   "cell_type": "code",
   "execution_count": 139,
   "id": "258a3a57",
   "metadata": {},
   "outputs": [
    {
     "data": {
      "text/plain": [
       "array([ 5,  6,  7,  8,  9, 10, 11, 12, 13, 14, 15, 16, 17, 18, 19, 20, 21,\n",
       "       22, 23, 24, 25])"
      ]
     },
     "execution_count": 139,
     "metadata": {},
     "output_type": "execute_result"
    }
   ],
   "source": [
    "np.arange(5, 26)  #(start, stop+1)"
   ]
  },
  {
   "cell_type": "code",
   "execution_count": 140,
   "id": "a70d1032",
   "metadata": {},
   "outputs": [
    {
     "data": {
      "text/plain": [
       "array([10, 20, 30, 40, 50, 60, 70, 80, 90])"
      ]
     },
     "execution_count": 140,
     "metadata": {},
     "output_type": "execute_result"
    }
   ],
   "source": [
    "np.arange(10, 91, 10)  #(start, stop+1, step)"
   ]
  },
  {
   "cell_type": "markdown",
   "id": "139a71bd",
   "metadata": {},
   "source": [
    "#### 2d array"
   ]
  },
  {
   "cell_type": "code",
   "execution_count": 141,
   "id": "63278969",
   "metadata": {},
   "outputs": [
    {
     "data": {
      "text/plain": [
       "array([[ 0,  1,  2],\n",
       "       [ 3,  4,  5],\n",
       "       [ 6,  7,  8],\n",
       "       [ 9, 10, 11],\n",
       "       [12, 13, 14],\n",
       "       [15, 16, 17],\n",
       "       [18, 19, 20],\n",
       "       [21, 22, 23]])"
      ]
     },
     "execution_count": 141,
     "metadata": {},
     "output_type": "execute_result"
    }
   ],
   "source": [
    "np.arange(24).reshape(8,3)"
   ]
  },
  {
   "cell_type": "markdown",
   "id": "2e054f35",
   "metadata": {},
   "source": [
    "#### np.ones function"
   ]
  },
  {
   "cell_type": "code",
   "execution_count": 142,
   "id": "27618014",
   "metadata": {},
   "outputs": [
    {
     "data": {
      "text/plain": [
       "array([1., 1., 1., 1., 1., 1., 1., 1., 1., 1., 1., 1., 1., 1., 1., 1., 1.,\n",
       "       1., 1., 1., 1., 1., 1., 1., 1.])"
      ]
     },
     "execution_count": 142,
     "metadata": {},
     "output_type": "execute_result"
    }
   ],
   "source": [
    "np.ones(25)"
   ]
  },
  {
   "cell_type": "code",
   "execution_count": 143,
   "id": "4c7166ee",
   "metadata": {},
   "outputs": [
    {
     "data": {
      "text/plain": [
       "array([[1., 1., 1., 1.],\n",
       "       [1., 1., 1., 1.],\n",
       "       [1., 1., 1., 1.]])"
      ]
     },
     "execution_count": 143,
     "metadata": {},
     "output_type": "execute_result"
    }
   ],
   "source": [
    "np.ones((3,4))"
   ]
  },
  {
   "cell_type": "code",
   "execution_count": 144,
   "id": "8b6291c4",
   "metadata": {},
   "outputs": [
    {
     "data": {
      "text/plain": [
       "array([[21., 21., 21., 21.],\n",
       "       [21., 21., 21., 21.],\n",
       "       [21., 21., 21., 21.],\n",
       "       [21., 21., 21., 21.],\n",
       "       [21., 21., 21., 21.]])"
      ]
     },
     "execution_count": 144,
     "metadata": {},
     "output_type": "execute_result"
    }
   ],
   "source": [
    "np.ones((5,4)) * 21"
   ]
  },
  {
   "cell_type": "markdown",
   "id": "a6d52915",
   "metadata": {},
   "source": [
    "#### np.zeros function"
   ]
  },
  {
   "cell_type": "code",
   "execution_count": 145,
   "id": "ed26b333",
   "metadata": {},
   "outputs": [
    {
     "data": {
      "text/plain": [
       "array([0., 0., 0., 0., 0.])"
      ]
     },
     "execution_count": 145,
     "metadata": {},
     "output_type": "execute_result"
    }
   ],
   "source": [
    "np.zeros(5)"
   ]
  },
  {
   "cell_type": "code",
   "execution_count": 146,
   "id": "5f9b0d6b",
   "metadata": {},
   "outputs": [
    {
     "data": {
      "text/plain": [
       "array([[0., 0., 0., 0., 0., 0., 0.],\n",
       "       [0., 0., 0., 0., 0., 0., 0.],\n",
       "       [0., 0., 0., 0., 0., 0., 0.],\n",
       "       [0., 0., 0., 0., 0., 0., 0.],\n",
       "       [0., 0., 0., 0., 0., 0., 0.],\n",
       "       [0., 0., 0., 0., 0., 0., 0.]])"
      ]
     },
     "execution_count": 146,
     "metadata": {},
     "output_type": "execute_result"
    }
   ],
   "source": [
    "np.zeros((6,7))"
   ]
  },
  {
   "cell_type": "markdown",
   "id": "bd40763a",
   "metadata": {},
   "source": [
    "#### np.full function"
   ]
  },
  {
   "cell_type": "code",
   "execution_count": 147,
   "id": "243fdb7e",
   "metadata": {},
   "outputs": [
    {
     "data": {
      "text/plain": [
       "array([[10000, 10000, 10000, 10000, 10000],\n",
       "       [10000, 10000, 10000, 10000, 10000],\n",
       "       [10000, 10000, 10000, 10000, 10000],\n",
       "       [10000, 10000, 10000, 10000, 10000],\n",
       "       [10000, 10000, 10000, 10000, 10000]])"
      ]
     },
     "execution_count": 147,
     "metadata": {},
     "output_type": "execute_result"
    }
   ],
   "source": [
    "np.full((5,5), 10000)"
   ]
  },
  {
   "cell_type": "markdown",
   "id": "7bc5adad",
   "metadata": {},
   "source": [
    "#### np.eye function"
   ]
  },
  {
   "cell_type": "code",
   "execution_count": 148,
   "id": "ff3587ba",
   "metadata": {},
   "outputs": [
    {
     "data": {
      "text/plain": [
       "array([[1., 0., 0., 0., 0.],\n",
       "       [0., 1., 0., 0., 0.],\n",
       "       [0., 0., 1., 0., 0.],\n",
       "       [0., 0., 0., 1., 0.],\n",
       "       [0., 0., 0., 0., 1.]])"
      ]
     },
     "execution_count": 148,
     "metadata": {},
     "output_type": "execute_result"
    }
   ],
   "source": [
    "np.eye(5)   #identity matrix"
   ]
  },
  {
   "cell_type": "code",
   "execution_count": 149,
   "id": "5d2d9164",
   "metadata": {},
   "outputs": [
    {
     "data": {
      "text/plain": [
       "array([[10.,  0.,  0.,  0.,  0.],\n",
       "       [ 0., 10.,  0.,  0.,  0.],\n",
       "       [ 0.,  0., 10.,  0.,  0.],\n",
       "       [ 0.,  0.,  0., 10.,  0.],\n",
       "       [ 0.,  0.,  0.,  0., 10.]])"
      ]
     },
     "execution_count": 149,
     "metadata": {},
     "output_type": "execute_result"
    }
   ],
   "source": [
    "np.eye(5) * 10"
   ]
  },
  {
   "cell_type": "markdown",
   "id": "89000b3e",
   "metadata": {},
   "source": [
    "#### np.diag function"
   ]
  },
  {
   "cell_type": "code",
   "execution_count": 150,
   "id": "c40dcdcd",
   "metadata": {},
   "outputs": [
    {
     "data": {
      "text/plain": [
       "array([[10,  0,  0,  0,  0,  0],\n",
       "       [ 0, 11,  0,  0,  0,  0],\n",
       "       [ 0,  0, 12,  0,  0,  0],\n",
       "       [ 0,  0,  0, 13,  0,  0],\n",
       "       [ 0,  0,  0,  0, 14,  0],\n",
       "       [ 0,  0,  0,  0,  0, 15]])"
      ]
     },
     "execution_count": 150,
     "metadata": {},
     "output_type": "execute_result"
    }
   ],
   "source": [
    "np.diag([10,11,12,13,14,15])"
   ]
  },
  {
   "cell_type": "markdown",
   "id": "1739a52c",
   "metadata": {},
   "source": [
    "#### np.random.random function"
   ]
  },
  {
   "cell_type": "code",
   "execution_count": 151,
   "id": "7c649368",
   "metadata": {},
   "outputs": [
    {
     "data": {
      "text/plain": [
       "array([0.69820051, 0.92495505, 0.29626512, 0.13190277, 0.53517626])"
      ]
     },
     "execution_count": 151,
     "metadata": {},
     "output_type": "execute_result"
    }
   ],
   "source": [
    "np.random.random(5)   #array of random numbers between 0 and 1"
   ]
  },
  {
   "cell_type": "markdown",
   "id": "35bd994d",
   "metadata": {},
   "source": [
    "#### np.random.randint function"
   ]
  },
  {
   "cell_type": "code",
   "execution_count": 152,
   "id": "ff5a4386",
   "metadata": {},
   "outputs": [
    {
     "data": {
      "text/plain": [
       "47"
      ]
     },
     "execution_count": 152,
     "metadata": {},
     "output_type": "execute_result"
    }
   ],
   "source": [
    "np.random.randint(50)   #a random number between 0 and 49"
   ]
  },
  {
   "cell_type": "code",
   "execution_count": 153,
   "id": "f615b3cd",
   "metadata": {},
   "outputs": [
    {
     "data": {
      "text/plain": [
       "6"
      ]
     },
     "execution_count": 153,
     "metadata": {},
     "output_type": "execute_result"
    }
   ],
   "source": [
    "np.random.randint(1, 7)"
   ]
  },
  {
   "cell_type": "code",
   "execution_count": 155,
   "id": "187bc805",
   "metadata": {},
   "outputs": [
    {
     "data": {
      "text/plain": [
       "array([26, 24, 40, 25, 28, 41, 41, 35, 22, 30])"
      ]
     },
     "execution_count": 155,
     "metadata": {},
     "output_type": "execute_result"
    }
   ],
   "source": [
    "np.random.randint(10, 51, size = 10)"
   ]
  },
  {
   "cell_type": "code",
   "execution_count": 156,
   "id": "8a66740b",
   "metadata": {},
   "outputs": [
    {
     "data": {
      "text/plain": [
       "array([[13, 42, 25, ..., 43, 45, 14],\n",
       "       [40, 29, 44, ..., 46, 35, 40],\n",
       "       [23, 24, 40, ..., 37, 18, 33],\n",
       "       ...,\n",
       "       [38, 43, 46, ..., 32, 35, 29],\n",
       "       [34, 12, 22, ..., 42, 40, 49],\n",
       "       [23, 32, 22, ..., 22, 37, 47]])"
      ]
     },
     "execution_count": 156,
     "metadata": {},
     "output_type": "execute_result"
    }
   ],
   "source": [
    "np.random.randint(10,51, size = (1000000, 100))"
   ]
  },
  {
   "cell_type": "markdown",
   "id": "2124c57c",
   "metadata": {},
   "source": [
    "#### np.linspace(linearly spaced values) function"
   ]
  },
  {
   "cell_type": "code",
   "execution_count": 157,
   "id": "abe05322",
   "metadata": {},
   "outputs": [
    {
     "data": {
      "text/plain": [
       "array([ 0.  ,  6.25, 12.5 , 18.75, 25.  , 31.25, 37.5 , 43.75, 50.  ])"
      ]
     },
     "execution_count": 157,
     "metadata": {},
     "output_type": "execute_result"
    }
   ],
   "source": [
    "np.linspace(0,50,9)   #(start, stop, no of data points)"
   ]
  },
  {
   "cell_type": "code",
   "execution_count": 158,
   "id": "6dac1724",
   "metadata": {},
   "outputs": [
    {
     "data": {
      "text/plain": [
       "array([0.000000e+00, 5.000025e-04, 1.000005e-03, ..., 9.999900e+01,\n",
       "       9.999950e+01, 1.000000e+02])"
      ]
     },
     "execution_count": 158,
     "metadata": {},
     "output_type": "execute_result"
    }
   ],
   "source": [
    "np.linspace(0, 100, 200000)"
   ]
  },
  {
   "cell_type": "markdown",
   "id": "733bf5a0",
   "metadata": {},
   "source": [
    "### Indexing and Slicing"
   ]
  },
  {
   "cell_type": "code",
   "execution_count": 159,
   "id": "e01029e0",
   "metadata": {},
   "outputs": [],
   "source": [
    "arr = np.arange(10, 91, 10).reshape(3,3)"
   ]
  },
  {
   "cell_type": "code",
   "execution_count": 160,
   "id": "243074ce",
   "metadata": {},
   "outputs": [
    {
     "data": {
      "text/plain": [
       "array([[10, 20, 30],\n",
       "       [40, 50, 60],\n",
       "       [70, 80, 90]])"
      ]
     },
     "execution_count": 160,
     "metadata": {},
     "output_type": "execute_result"
    }
   ],
   "source": [
    "arr"
   ]
  },
  {
   "cell_type": "code",
   "execution_count": 161,
   "id": "b3f2838f",
   "metadata": {},
   "outputs": [
    {
     "data": {
      "text/plain": [
       "40"
      ]
     },
     "execution_count": 161,
     "metadata": {},
     "output_type": "execute_result"
    }
   ],
   "source": [
    "arr[1,0]"
   ]
  },
  {
   "cell_type": "code",
   "execution_count": 162,
   "id": "c1a7029c",
   "metadata": {},
   "outputs": [
    {
     "data": {
      "text/plain": [
       "array([[50, 60],\n",
       "       [80, 90]])"
      ]
     },
     "execution_count": 162,
     "metadata": {},
     "output_type": "execute_result"
    }
   ],
   "source": [
    "arr[1:3, 1:3]"
   ]
  },
  {
   "cell_type": "code",
   "execution_count": 163,
   "id": "a5884900",
   "metadata": {},
   "outputs": [
    {
     "data": {
      "text/plain": [
       "array([[False, False, False],\n",
       "       [False,  True,  True],\n",
       "       [ True,  True, False]])"
      ]
     },
     "execution_count": 163,
     "metadata": {},
     "output_type": "execute_result"
    }
   ],
   "source": [
    "(arr >= 50) & (arr <= 80)"
   ]
  },
  {
   "cell_type": "code",
   "execution_count": 164,
   "id": "3ec78767",
   "metadata": {},
   "outputs": [
    {
     "data": {
      "text/plain": [
       "array([50, 60, 70, 80])"
      ]
     },
     "execution_count": 164,
     "metadata": {},
     "output_type": "execute_result"
    }
   ],
   "source": [
    "arr[(arr >= 50) & (arr <= 80)]"
   ]
  },
  {
   "cell_type": "code",
   "execution_count": 165,
   "id": "89def6a4",
   "metadata": {},
   "outputs": [
    {
     "data": {
      "text/plain": [
       "array([40])"
      ]
     },
     "execution_count": 165,
     "metadata": {},
     "output_type": "execute_result"
    }
   ],
   "source": [
    "arr[arr == 40]"
   ]
  },
  {
   "cell_type": "code",
   "execution_count": 166,
   "id": "7980e112",
   "metadata": {},
   "outputs": [
    {
     "data": {
      "text/plain": [
       "array([[ True,  True,  True],\n",
       "       [False, False, False],\n",
       "       [False, False, False]])"
      ]
     },
     "execution_count": 166,
     "metadata": {},
     "output_type": "execute_result"
    }
   ],
   "source": [
    "arr < 40"
   ]
  },
  {
   "cell_type": "code",
   "execution_count": 167,
   "id": "67445e33",
   "metadata": {},
   "outputs": [
    {
     "data": {
      "text/plain": [
       "array([10, 20, 30])"
      ]
     },
     "execution_count": 167,
     "metadata": {},
     "output_type": "execute_result"
    }
   ],
   "source": [
    "arr[arr < 40]"
   ]
  },
  {
   "cell_type": "markdown",
   "id": "3b82dba5",
   "metadata": {},
   "source": [
    "## numpy where function"
   ]
  },
  {
   "cell_type": "code",
   "execution_count": 168,
   "id": "6648b674",
   "metadata": {},
   "outputs": [
    {
     "data": {
      "text/plain": [
       "array([[10, 20, 30],\n",
       "       [40, 50, 60],\n",
       "       [70, 80, 90]])"
      ]
     },
     "execution_count": 168,
     "metadata": {},
     "output_type": "execute_result"
    }
   ],
   "source": [
    "arr"
   ]
  },
  {
   "cell_type": "code",
   "execution_count": 169,
   "id": "e529299e",
   "metadata": {},
   "outputs": [
    {
     "data": {
      "text/plain": [
       "(array([0, 0, 0], dtype=int64), array([0, 1, 2], dtype=int64))"
      ]
     },
     "execution_count": 169,
     "metadata": {},
     "output_type": "execute_result"
    }
   ],
   "source": [
    "np.where(arr < 40)"
   ]
  },
  {
   "cell_type": "code",
   "execution_count": 170,
   "id": "02ba63dc",
   "metadata": {},
   "outputs": [
    {
     "data": {
      "text/plain": [
       "array([10, 20, 30])"
      ]
     },
     "execution_count": 170,
     "metadata": {},
     "output_type": "execute_result"
    }
   ],
   "source": [
    "arr[np.where(arr < 40)]"
   ]
  },
  {
   "cell_type": "code",
   "execution_count": 171,
   "id": "e07d9624",
   "metadata": {},
   "outputs": [
    {
     "data": {
      "text/plain": [
       "(array([1, 1, 2, 2], dtype=int64), array([1, 2, 0, 1], dtype=int64))"
      ]
     },
     "execution_count": 171,
     "metadata": {},
     "output_type": "execute_result"
    }
   ],
   "source": [
    "np.where((arr >= 50) & (arr <= 80))"
   ]
  },
  {
   "cell_type": "code",
   "execution_count": 172,
   "id": "9c316c3a",
   "metadata": {},
   "outputs": [
    {
     "data": {
      "text/plain": [
       "array([50, 60, 70, 80])"
      ]
     },
     "execution_count": 172,
     "metadata": {},
     "output_type": "execute_result"
    }
   ],
   "source": [
    "arr[np.where((arr >= 50) & (arr <= 80))]"
   ]
  },
  {
   "cell_type": "code",
   "execution_count": 173,
   "id": "946bf654",
   "metadata": {},
   "outputs": [
    {
     "data": {
      "text/plain": [
       "array([50, 60, 70, 80, 90])"
      ]
     },
     "execution_count": 173,
     "metadata": {},
     "output_type": "execute_result"
    }
   ],
   "source": [
    "arr[np.where(arr >= 50)]"
   ]
  },
  {
   "cell_type": "markdown",
   "id": "bc272324",
   "metadata": {},
   "source": [
    "## Array Mathematics"
   ]
  },
  {
   "cell_type": "code",
   "execution_count": 174,
   "id": "d9f9e5e8",
   "metadata": {},
   "outputs": [],
   "source": [
    "arr1 = np.random.randint(10,51,size = (3,3))\n",
    "arr2 = np.random.randint(10,51,size = (3,3))"
   ]
  },
  {
   "cell_type": "code",
   "execution_count": 175,
   "id": "df7d4915",
   "metadata": {},
   "outputs": [
    {
     "data": {
      "text/plain": [
       "array([[45, 37, 24],\n",
       "       [17, 27, 35],\n",
       "       [10, 19, 28]])"
      ]
     },
     "execution_count": 175,
     "metadata": {},
     "output_type": "execute_result"
    }
   ],
   "source": [
    "arr1"
   ]
  },
  {
   "cell_type": "code",
   "execution_count": 176,
   "id": "b5b1a0da",
   "metadata": {},
   "outputs": [
    {
     "data": {
      "text/plain": [
       "array([[35, 22, 31],\n",
       "       [19, 33, 28],\n",
       "       [31, 28, 24]])"
      ]
     },
     "execution_count": 176,
     "metadata": {},
     "output_type": "execute_result"
    }
   ],
   "source": [
    "arr2"
   ]
  },
  {
   "cell_type": "code",
   "execution_count": 177,
   "id": "ec5eda83",
   "metadata": {},
   "outputs": [
    {
     "data": {
      "text/plain": [
       "array([[80, 59, 55],\n",
       "       [36, 60, 63],\n",
       "       [41, 47, 52]])"
      ]
     },
     "execution_count": 177,
     "metadata": {},
     "output_type": "execute_result"
    }
   ],
   "source": [
    "arr1 + arr2"
   ]
  },
  {
   "cell_type": "code",
   "execution_count": 178,
   "id": "f3a2e8b0",
   "metadata": {},
   "outputs": [
    {
     "data": {
      "text/plain": [
       "array([[80, 59, 55],\n",
       "       [36, 60, 63],\n",
       "       [41, 47, 52]])"
      ]
     },
     "execution_count": 178,
     "metadata": {},
     "output_type": "execute_result"
    }
   ],
   "source": [
    "np.add(arr1, arr2)"
   ]
  },
  {
   "cell_type": "code",
   "execution_count": 179,
   "id": "12c5336b",
   "metadata": {},
   "outputs": [
    {
     "data": {
      "text/plain": [
       "array([[65, 57, 44],\n",
       "       [37, 47, 55],\n",
       "       [30, 39, 48]])"
      ]
     },
     "execution_count": 179,
     "metadata": {},
     "output_type": "execute_result"
    }
   ],
   "source": [
    "arr1 + 20"
   ]
  },
  {
   "cell_type": "code",
   "execution_count": 180,
   "id": "9cc302ee",
   "metadata": {},
   "outputs": [
    {
     "data": {
      "text/plain": [
       "array([[ 10,  15,  -7],\n",
       "       [ -2,  -6,   7],\n",
       "       [-21,  -9,   4]])"
      ]
     },
     "execution_count": 180,
     "metadata": {},
     "output_type": "execute_result"
    }
   ],
   "source": [
    "arr1 - arr2"
   ]
  },
  {
   "cell_type": "code",
   "execution_count": 181,
   "id": "7c61c0f2",
   "metadata": {},
   "outputs": [
    {
     "data": {
      "text/plain": [
       "array([[ 10,  15,  -7],\n",
       "       [ -2,  -6,   7],\n",
       "       [-21,  -9,   4]])"
      ]
     },
     "execution_count": 181,
     "metadata": {},
     "output_type": "execute_result"
    }
   ],
   "source": [
    "np.subtract(arr1, arr2)"
   ]
  },
  {
   "cell_type": "code",
   "execution_count": 182,
   "id": "6b6151ed",
   "metadata": {},
   "outputs": [
    {
     "data": {
      "text/plain": [
       "array([[-10, -15,   7],\n",
       "       [  2,   6,  -7],\n",
       "       [ 21,   9,  -4]])"
      ]
     },
     "execution_count": 182,
     "metadata": {},
     "output_type": "execute_result"
    }
   ],
   "source": [
    "arr2 - arr1"
   ]
  },
  {
   "cell_type": "code",
   "execution_count": 183,
   "id": "0281cb25",
   "metadata": {},
   "outputs": [
    {
     "data": {
      "text/plain": [
       "array([[25, 12, 21],\n",
       "       [ 9, 23, 18],\n",
       "       [21, 18, 14]])"
      ]
     },
     "execution_count": 183,
     "metadata": {},
     "output_type": "execute_result"
    }
   ],
   "source": [
    "arr2 - 10"
   ]
  },
  {
   "cell_type": "code",
   "execution_count": 184,
   "id": "7102c2e7",
   "metadata": {},
   "outputs": [
    {
     "data": {
      "text/plain": [
       "array([[1575,  814,  744],\n",
       "       [ 323,  891,  980],\n",
       "       [ 310,  532,  672]])"
      ]
     },
     "execution_count": 184,
     "metadata": {},
     "output_type": "execute_result"
    }
   ],
   "source": [
    "arr1 * arr2"
   ]
  },
  {
   "cell_type": "code",
   "execution_count": 185,
   "id": "5f380784",
   "metadata": {},
   "outputs": [
    {
     "data": {
      "text/plain": [
       "array([[1575,  814,  744],\n",
       "       [ 323,  891,  980],\n",
       "       [ 310,  532,  672]])"
      ]
     },
     "execution_count": 185,
     "metadata": {},
     "output_type": "execute_result"
    }
   ],
   "source": [
    "np.multiply(arr1, arr2)"
   ]
  },
  {
   "cell_type": "code",
   "execution_count": 186,
   "id": "08788add",
   "metadata": {},
   "outputs": [
    {
     "data": {
      "text/plain": [
       "array([[225, 185, 120],\n",
       "       [ 85, 135, 175],\n",
       "       [ 50,  95, 140]])"
      ]
     },
     "execution_count": 186,
     "metadata": {},
     "output_type": "execute_result"
    }
   ],
   "source": [
    "arr1 * 5"
   ]
  },
  {
   "cell_type": "code",
   "execution_count": 187,
   "id": "bb3b4891",
   "metadata": {},
   "outputs": [
    {
     "data": {
      "text/plain": [
       "array([[9. , 7.4, 4.8],\n",
       "       [3.4, 5.4, 7. ],\n",
       "       [2. , 3.8, 5.6]])"
      ]
     },
     "execution_count": 187,
     "metadata": {},
     "output_type": "execute_result"
    }
   ],
   "source": [
    "arr1 / 5"
   ]
  },
  {
   "cell_type": "code",
   "execution_count": 188,
   "id": "3dc70952",
   "metadata": {},
   "outputs": [
    {
     "data": {
      "text/plain": [
       "array([[1.28571429, 1.68181818, 0.77419355],\n",
       "       [0.89473684, 0.81818182, 1.25      ],\n",
       "       [0.32258065, 0.67857143, 1.16666667]])"
      ]
     },
     "execution_count": 188,
     "metadata": {},
     "output_type": "execute_result"
    }
   ],
   "source": [
    "arr1 / arr2"
   ]
  },
  {
   "cell_type": "code",
   "execution_count": 189,
   "id": "12e50be8",
   "metadata": {},
   "outputs": [
    {
     "data": {
      "text/plain": [
       "array([[1.28571429, 1.68181818, 0.77419355],\n",
       "       [0.89473684, 0.81818182, 1.25      ],\n",
       "       [0.32258065, 0.67857143, 1.16666667]])"
      ]
     },
     "execution_count": 189,
     "metadata": {},
     "output_type": "execute_result"
    }
   ],
   "source": [
    "np.divide(arr1, arr2)"
   ]
  },
  {
   "cell_type": "code",
   "execution_count": 190,
   "id": "c016fb99",
   "metadata": {},
   "outputs": [
    {
     "data": {
      "text/plain": [
       "2.995732273553991"
      ]
     },
     "execution_count": 190,
     "metadata": {},
     "output_type": "execute_result"
    }
   ],
   "source": [
    "np.log(20) #base of e"
   ]
  },
  {
   "cell_type": "code",
   "execution_count": 191,
   "id": "07a1d7c0",
   "metadata": {},
   "outputs": [
    {
     "data": {
      "text/plain": [
       "4.321928094887363"
      ]
     },
     "execution_count": 191,
     "metadata": {},
     "output_type": "execute_result"
    }
   ],
   "source": [
    "np.log2(20) #base of 2"
   ]
  },
  {
   "cell_type": "code",
   "execution_count": 192,
   "id": "ed978fa9",
   "metadata": {},
   "outputs": [
    {
     "data": {
      "text/plain": [
       "1.3010299956639813"
      ]
     },
     "execution_count": 192,
     "metadata": {},
     "output_type": "execute_result"
    }
   ],
   "source": [
    "np.log10(20)  #base of 10"
   ]
  },
  {
   "cell_type": "code",
   "execution_count": 193,
   "id": "9140e2bf",
   "metadata": {},
   "outputs": [
    {
     "data": {
      "text/plain": [
       "54.598150033144236"
      ]
     },
     "execution_count": 193,
     "metadata": {},
     "output_type": "execute_result"
    }
   ],
   "source": [
    "np.exp(4)"
   ]
  },
  {
   "cell_type": "code",
   "execution_count": 194,
   "id": "ade84698",
   "metadata": {},
   "outputs": [
    {
     "data": {
      "text/plain": [
       "0.049787068367863944"
      ]
     },
     "execution_count": 194,
     "metadata": {},
     "output_type": "execute_result"
    }
   ],
   "source": [
    "np.exp(-3)"
   ]
  },
  {
   "cell_type": "markdown",
   "id": "d18ccc81",
   "metadata": {},
   "source": [
    "## Mean, Median, Min, Max of the Arrays"
   ]
  },
  {
   "cell_type": "code",
   "execution_count": 195,
   "id": "d30f81e9",
   "metadata": {},
   "outputs": [],
   "source": [
    "arr_new = np.random.randint(50,100, size = (10,8))"
   ]
  },
  {
   "cell_type": "code",
   "execution_count": 196,
   "id": "d7d0c0ed",
   "metadata": {},
   "outputs": [
    {
     "data": {
      "text/plain": [
       "array([[51, 76, 96, 91, 62, 84, 64, 89],\n",
       "       [54, 80, 80, 77, 64, 98, 87, 51],\n",
       "       [68, 82, 98, 66, 57, 68, 76, 95],\n",
       "       [61, 59, 69, 89, 60, 89, 67, 99],\n",
       "       [59, 58, 80, 64, 98, 85, 84, 89],\n",
       "       [77, 63, 99, 76, 75, 91, 56, 61],\n",
       "       [68, 66, 96, 61, 82, 82, 70, 72],\n",
       "       [64, 89, 61, 77, 80, 98, 90, 77],\n",
       "       [70, 73, 68, 69, 72, 78, 58, 83],\n",
       "       [53, 58, 79, 70, 98, 50, 84, 54]])"
      ]
     },
     "execution_count": 196,
     "metadata": {},
     "output_type": "execute_result"
    }
   ],
   "source": [
    "arr_new"
   ]
  },
  {
   "cell_type": "markdown",
   "id": "f190b860",
   "metadata": {},
   "source": [
    "### mean"
   ]
  },
  {
   "cell_type": "code",
   "execution_count": 197,
   "id": "afb15f38",
   "metadata": {},
   "outputs": [
    {
     "data": {
      "text/plain": [
       "74.65"
      ]
     },
     "execution_count": 197,
     "metadata": {},
     "output_type": "execute_result"
    }
   ],
   "source": [
    "np.mean(arr_new)"
   ]
  },
  {
   "cell_type": "code",
   "execution_count": 198,
   "id": "f8bc2a94",
   "metadata": {},
   "outputs": [
    {
     "data": {
      "text/plain": [
       "array([62.5, 70.4, 82.6, 74. , 74.8, 82.3, 73.6, 77. ])"
      ]
     },
     "execution_count": 198,
     "metadata": {},
     "output_type": "execute_result"
    }
   ],
   "source": [
    "np.mean(arr_new, axis = 0)   #column-wise"
   ]
  },
  {
   "cell_type": "code",
   "execution_count": 199,
   "id": "11101698",
   "metadata": {},
   "outputs": [
    {
     "data": {
      "text/plain": [
       "array([76.625, 73.875, 76.25 , 74.125, 77.125, 74.75 , 74.625, 79.5  ,\n",
       "       71.375, 68.25 ])"
      ]
     },
     "execution_count": 199,
     "metadata": {},
     "output_type": "execute_result"
    }
   ],
   "source": [
    "np.mean(arr_new, axis = 1)   #row-wise"
   ]
  },
  {
   "cell_type": "markdown",
   "id": "b2d9a01c",
   "metadata": {},
   "source": [
    "### meadian\n"
   ]
  },
  {
   "cell_type": "code",
   "execution_count": 200,
   "id": "980a01c4",
   "metadata": {},
   "outputs": [
    {
     "data": {
      "text/plain": [
       "75.5"
      ]
     },
     "execution_count": 200,
     "metadata": {},
     "output_type": "execute_result"
    }
   ],
   "source": [
    "np.median(arr_new)"
   ]
  },
  {
   "cell_type": "code",
   "execution_count": 201,
   "id": "918fb9da",
   "metadata": {},
   "outputs": [
    {
     "data": {
      "text/plain": [
       "array([62.5, 69.5, 80. , 73. , 73.5, 84.5, 73. , 80. ])"
      ]
     },
     "execution_count": 201,
     "metadata": {},
     "output_type": "execute_result"
    }
   ],
   "source": [
    "np.median(arr_new, axis = 0)"
   ]
  },
  {
   "cell_type": "code",
   "execution_count": 202,
   "id": "ff14a9eb",
   "metadata": {},
   "outputs": [
    {
     "data": {
      "text/plain": [
       "array([80. , 78.5, 72. , 68. , 82. , 75.5, 71. , 78.5, 71. , 64. ])"
      ]
     },
     "execution_count": 202,
     "metadata": {},
     "output_type": "execute_result"
    }
   ],
   "source": [
    "np.median(arr_new, axis = 1)"
   ]
  },
  {
   "cell_type": "markdown",
   "id": "a2489093",
   "metadata": {},
   "source": [
    "### min"
   ]
  },
  {
   "cell_type": "code",
   "execution_count": 203,
   "id": "e5071513",
   "metadata": {},
   "outputs": [
    {
     "data": {
      "text/plain": [
       "50"
      ]
     },
     "execution_count": 203,
     "metadata": {},
     "output_type": "execute_result"
    }
   ],
   "source": [
    "np.min(arr_new)"
   ]
  },
  {
   "cell_type": "code",
   "execution_count": 204,
   "id": "5b4b53aa",
   "metadata": {},
   "outputs": [
    {
     "data": {
      "text/plain": [
       "array([51, 58, 61, 61, 57, 50, 56, 51])"
      ]
     },
     "execution_count": 204,
     "metadata": {},
     "output_type": "execute_result"
    }
   ],
   "source": [
    "np.min(arr_new, axis = 0)"
   ]
  },
  {
   "cell_type": "code",
   "execution_count": 205,
   "id": "ca10e1a1",
   "metadata": {},
   "outputs": [
    {
     "data": {
      "text/plain": [
       "array([51, 51, 57, 59, 58, 56, 61, 61, 58, 50])"
      ]
     },
     "execution_count": 205,
     "metadata": {},
     "output_type": "execute_result"
    }
   ],
   "source": [
    "np.min(arr_new, axis = 1)"
   ]
  },
  {
   "cell_type": "markdown",
   "id": "3379a202",
   "metadata": {},
   "source": [
    "### max"
   ]
  },
  {
   "cell_type": "code",
   "execution_count": 206,
   "id": "1467bad7",
   "metadata": {},
   "outputs": [
    {
     "data": {
      "text/plain": [
       "99"
      ]
     },
     "execution_count": 206,
     "metadata": {},
     "output_type": "execute_result"
    }
   ],
   "source": [
    "np.max(arr_new)"
   ]
  },
  {
   "cell_type": "code",
   "execution_count": 207,
   "id": "c853e475",
   "metadata": {},
   "outputs": [
    {
     "data": {
      "text/plain": [
       "array([77, 89, 99, 91, 98, 98, 90, 99])"
      ]
     },
     "execution_count": 207,
     "metadata": {},
     "output_type": "execute_result"
    }
   ],
   "source": [
    "np.max(arr_new, axis = 0)"
   ]
  },
  {
   "cell_type": "code",
   "execution_count": 208,
   "id": "0af3228a",
   "metadata": {},
   "outputs": [
    {
     "data": {
      "text/plain": [
       "array([96, 98, 98, 99, 98, 99, 96, 98, 83, 98])"
      ]
     },
     "execution_count": 208,
     "metadata": {},
     "output_type": "execute_result"
    }
   ],
   "source": [
    "np.max(arr_new, axis = 1)"
   ]
  },
  {
   "cell_type": "markdown",
   "id": "69a74132",
   "metadata": {},
   "source": [
    "### sum"
   ]
  },
  {
   "cell_type": "code",
   "execution_count": 209,
   "id": "7d751ed4",
   "metadata": {},
   "outputs": [
    {
     "data": {
      "text/plain": [
       "5972"
      ]
     },
     "execution_count": 209,
     "metadata": {},
     "output_type": "execute_result"
    }
   ],
   "source": [
    "np.sum(arr_new)"
   ]
  },
  {
   "cell_type": "code",
   "execution_count": 210,
   "id": "63383624",
   "metadata": {},
   "outputs": [
    {
     "data": {
      "text/plain": [
       "array([625, 704, 826, 740, 748, 823, 736, 770])"
      ]
     },
     "execution_count": 210,
     "metadata": {},
     "output_type": "execute_result"
    }
   ],
   "source": [
    "np.sum(arr_new, axis = 0)"
   ]
  },
  {
   "cell_type": "code",
   "execution_count": 211,
   "id": "acf6931a",
   "metadata": {},
   "outputs": [
    {
     "data": {
      "text/plain": [
       "array([613, 591, 610, 593, 617, 598, 597, 636, 571, 546])"
      ]
     },
     "execution_count": 211,
     "metadata": {},
     "output_type": "execute_result"
    }
   ],
   "source": [
    "np.sum(arr_new, axis = 1)"
   ]
  },
  {
   "cell_type": "code",
   "execution_count": 212,
   "id": "b39e2f4e",
   "metadata": {},
   "outputs": [],
   "source": [
    "arr_sum_columns = np.sum(arr_new, axis = 0)"
   ]
  },
  {
   "cell_type": "code",
   "execution_count": 213,
   "id": "12c768ac",
   "metadata": {},
   "outputs": [
    {
     "data": {
      "text/plain": [
       "826"
      ]
     },
     "execution_count": 213,
     "metadata": {},
     "output_type": "execute_result"
    }
   ],
   "source": [
    "arr_sum_columns[2]"
   ]
  },
  {
   "cell_type": "code",
   "execution_count": 214,
   "id": "2250c78c",
   "metadata": {},
   "outputs": [
    {
     "data": {
      "text/plain": [
       "array([False,  True,  True,  True,  True,  True,  True,  True])"
      ]
     },
     "execution_count": 214,
     "metadata": {},
     "output_type": "execute_result"
    }
   ],
   "source": [
    "arr_sum_columns > 700"
   ]
  },
  {
   "cell_type": "code",
   "execution_count": 215,
   "id": "1a717ac7",
   "metadata": {},
   "outputs": [
    {
     "data": {
      "text/plain": [
       "array([704, 826, 740, 748, 823, 736, 770])"
      ]
     },
     "execution_count": 215,
     "metadata": {},
     "output_type": "execute_result"
    }
   ],
   "source": [
    "arr_sum_columns[arr_sum_columns > 700]"
   ]
  },
  {
   "cell_type": "markdown",
   "id": "0ab2673b",
   "metadata": {},
   "source": [
    "## Sorting the Arrays"
   ]
  },
  {
   "cell_type": "code",
   "execution_count": 216,
   "id": "3c42d5fe",
   "metadata": {},
   "outputs": [
    {
     "data": {
      "text/plain": [
       "array([[51, 76, 96, 91, 62, 84, 64, 89],\n",
       "       [54, 80, 80, 77, 64, 98, 87, 51],\n",
       "       [68, 82, 98, 66, 57, 68, 76, 95],\n",
       "       [61, 59, 69, 89, 60, 89, 67, 99],\n",
       "       [59, 58, 80, 64, 98, 85, 84, 89],\n",
       "       [77, 63, 99, 76, 75, 91, 56, 61],\n",
       "       [68, 66, 96, 61, 82, 82, 70, 72],\n",
       "       [64, 89, 61, 77, 80, 98, 90, 77],\n",
       "       [70, 73, 68, 69, 72, 78, 58, 83],\n",
       "       [53, 58, 79, 70, 98, 50, 84, 54]])"
      ]
     },
     "execution_count": 216,
     "metadata": {},
     "output_type": "execute_result"
    }
   ],
   "source": [
    "arr_new"
   ]
  },
  {
   "cell_type": "code",
   "execution_count": 217,
   "id": "f73a4034",
   "metadata": {},
   "outputs": [
    {
     "data": {
      "text/plain": [
       "array([[51, 58, 61, 61, 57, 50, 56, 51],\n",
       "       [53, 58, 68, 64, 60, 68, 58, 54],\n",
       "       [54, 59, 69, 66, 62, 78, 64, 61],\n",
       "       [59, 63, 79, 69, 64, 82, 67, 72],\n",
       "       [61, 66, 80, 70, 72, 84, 70, 77],\n",
       "       [64, 73, 80, 76, 75, 85, 76, 83],\n",
       "       [68, 76, 96, 77, 80, 89, 84, 89],\n",
       "       [68, 80, 96, 77, 82, 91, 84, 89],\n",
       "       [70, 82, 98, 89, 98, 98, 87, 95],\n",
       "       [77, 89, 99, 91, 98, 98, 90, 99]])"
      ]
     },
     "execution_count": 217,
     "metadata": {},
     "output_type": "execute_result"
    }
   ],
   "source": [
    "np.sort(arr_new, axis = 0)"
   ]
  },
  {
   "cell_type": "code",
   "execution_count": 218,
   "id": "8ad2d651",
   "metadata": {},
   "outputs": [
    {
     "data": {
      "text/plain": [
       "array([[51, 62, 64, 76, 84, 89, 91, 96],\n",
       "       [51, 54, 64, 77, 80, 80, 87, 98],\n",
       "       [57, 66, 68, 68, 76, 82, 95, 98],\n",
       "       [59, 60, 61, 67, 69, 89, 89, 99],\n",
       "       [58, 59, 64, 80, 84, 85, 89, 98],\n",
       "       [56, 61, 63, 75, 76, 77, 91, 99],\n",
       "       [61, 66, 68, 70, 72, 82, 82, 96],\n",
       "       [61, 64, 77, 77, 80, 89, 90, 98],\n",
       "       [58, 68, 69, 70, 72, 73, 78, 83],\n",
       "       [50, 53, 54, 58, 70, 79, 84, 98]])"
      ]
     },
     "execution_count": 218,
     "metadata": {},
     "output_type": "execute_result"
    }
   ],
   "source": [
    "np.sort(arr_new, axis = 1)"
   ]
  },
  {
   "cell_type": "code",
   "execution_count": 219,
   "id": "41c39188",
   "metadata": {},
   "outputs": [
    {
     "data": {
      "text/plain": [
       "array([[51, 62, 64, 76, 84, 89, 91, 96],\n",
       "       [51, 54, 64, 77, 80, 80, 87, 98],\n",
       "       [57, 66, 68, 68, 76, 82, 95, 98],\n",
       "       [59, 60, 61, 67, 69, 89, 89, 99],\n",
       "       [58, 59, 64, 80, 84, 85, 89, 98],\n",
       "       [56, 61, 63, 75, 76, 77, 91, 99],\n",
       "       [61, 66, 68, 70, 72, 82, 82, 96],\n",
       "       [61, 64, 77, 77, 80, 89, 90, 98],\n",
       "       [58, 68, 69, 70, 72, 73, 78, 83],\n",
       "       [50, 53, 54, 58, 70, 79, 84, 98]])"
      ]
     },
     "execution_count": 219,
     "metadata": {},
     "output_type": "execute_result"
    }
   ],
   "source": [
    "np.sort(arr_new)"
   ]
  },
  {
   "cell_type": "code",
   "execution_count": 220,
   "id": "03efdf93",
   "metadata": {},
   "outputs": [],
   "source": [
    "arr_1d = np.random.randint(45, 98, size = 8)"
   ]
  },
  {
   "cell_type": "code",
   "execution_count": 221,
   "id": "c0b740cf",
   "metadata": {},
   "outputs": [
    {
     "data": {
      "text/plain": [
       "array([54, 62, 77, 46, 80, 72, 78, 57])"
      ]
     },
     "execution_count": 221,
     "metadata": {},
     "output_type": "execute_result"
    }
   ],
   "source": [
    "arr_1d"
   ]
  },
  {
   "cell_type": "code",
   "execution_count": 222,
   "id": "bfb7c0e6",
   "metadata": {},
   "outputs": [
    {
     "data": {
      "text/plain": [
       "array([46, 54, 57, 62, 72, 77, 78, 80])"
      ]
     },
     "execution_count": 222,
     "metadata": {},
     "output_type": "execute_result"
    }
   ],
   "source": [
    "np.sort(arr_1d)"
   ]
  },
  {
   "cell_type": "code",
   "execution_count": 223,
   "id": "70f1069e",
   "metadata": {},
   "outputs": [
    {
     "data": {
      "text/plain": [
       "array([3, 0, 7, 1, 5, 2, 6, 4], dtype=int64)"
      ]
     },
     "execution_count": 223,
     "metadata": {},
     "output_type": "execute_result"
    }
   ],
   "source": [
    "np.argsort(arr_1d)"
   ]
  },
  {
   "cell_type": "markdown",
   "id": "a965790d",
   "metadata": {},
   "source": [
    "## Array Manipulation\n",
    "\n",
    "- np.concatenate\n",
    "- np.hstack\n",
    "- np.vstack\n",
    "- np.column_stack\n",
    "- np.hsplit\n",
    "- np.vsplit"
   ]
  },
  {
   "cell_type": "code",
   "execution_count": 224,
   "id": "c3ed22aa",
   "metadata": {},
   "outputs": [],
   "source": [
    "arr3 = np.random.randint(10, 50, size = (5,5))\n",
    "arr4 = np.random.randint(10, 50, size = (5,5))"
   ]
  },
  {
   "cell_type": "markdown",
   "id": "1de85fa5",
   "metadata": {},
   "source": [
    "### hstack"
   ]
  },
  {
   "cell_type": "code",
   "execution_count": 249,
   "id": "5346101f",
   "metadata": {},
   "outputs": [
    {
     "data": {
      "text/plain": [
       "array([[22, 29, 39, 48, 32, 36, 22, 24, 44, 37],\n",
       "       [36, 24, 19, 11, 23, 11, 44, 43, 47, 11],\n",
       "       [21, 16, 20, 10, 38, 28, 17, 21, 28, 43],\n",
       "       [41, 33, 46, 14, 12, 48, 26, 11, 20, 49],\n",
       "       [43, 26, 17, 46, 38, 11, 18, 20, 49, 41]])"
      ]
     },
     "execution_count": 249,
     "metadata": {},
     "output_type": "execute_result"
    }
   ],
   "source": [
    "hstacked_arr = np.hstack((arr3, arr4))\n",
    "hstacked_arr"
   ]
  },
  {
   "cell_type": "markdown",
   "id": "fa300ca6",
   "metadata": {},
   "source": [
    "### vstack"
   ]
  },
  {
   "cell_type": "code",
   "execution_count": 228,
   "id": "f232c306",
   "metadata": {},
   "outputs": [
    {
     "data": {
      "text/plain": [
       "array([[22, 29, 39, 48, 32],\n",
       "       [36, 24, 19, 11, 23],\n",
       "       [21, 16, 20, 10, 38],\n",
       "       [41, 33, 46, 14, 12],\n",
       "       [43, 26, 17, 46, 38],\n",
       "       [36, 22, 24, 44, 37],\n",
       "       [11, 44, 43, 47, 11],\n",
       "       [28, 17, 21, 28, 43],\n",
       "       [48, 26, 11, 20, 49],\n",
       "       [11, 18, 20, 49, 41]])"
      ]
     },
     "execution_count": 228,
     "metadata": {},
     "output_type": "execute_result"
    }
   ],
   "source": [
    "np.vstack((arr3, arr4))"
   ]
  },
  {
   "cell_type": "markdown",
   "id": "8c53c4ab",
   "metadata": {},
   "source": [
    "### concatenate"
   ]
  },
  {
   "cell_type": "code",
   "execution_count": 229,
   "id": "bb2fc797",
   "metadata": {},
   "outputs": [
    {
     "data": {
      "text/plain": [
       "array([[22, 29, 39, 48, 32],\n",
       "       [36, 24, 19, 11, 23],\n",
       "       [21, 16, 20, 10, 38],\n",
       "       [41, 33, 46, 14, 12],\n",
       "       [43, 26, 17, 46, 38],\n",
       "       [36, 22, 24, 44, 37],\n",
       "       [11, 44, 43, 47, 11],\n",
       "       [28, 17, 21, 28, 43],\n",
       "       [48, 26, 11, 20, 49],\n",
       "       [11, 18, 20, 49, 41]])"
      ]
     },
     "execution_count": 229,
     "metadata": {},
     "output_type": "execute_result"
    }
   ],
   "source": [
    "np.concatenate((arr3, arr4), axis = 0)  #similar to vstack"
   ]
  },
  {
   "cell_type": "code",
   "execution_count": 230,
   "id": "b42587de",
   "metadata": {},
   "outputs": [
    {
     "data": {
      "text/plain": [
       "array([[22, 29, 39, 48, 32, 36, 22, 24, 44, 37],\n",
       "       [36, 24, 19, 11, 23, 11, 44, 43, 47, 11],\n",
       "       [21, 16, 20, 10, 38, 28, 17, 21, 28, 43],\n",
       "       [41, 33, 46, 14, 12, 48, 26, 11, 20, 49],\n",
       "       [43, 26, 17, 46, 38, 11, 18, 20, 49, 41]])"
      ]
     },
     "execution_count": 230,
     "metadata": {},
     "output_type": "execute_result"
    }
   ],
   "source": [
    "np.concatenate((arr3, arr4), axis = 1)  #similar to hstack"
   ]
  },
  {
   "cell_type": "markdown",
   "id": "05320e4a",
   "metadata": {},
   "source": [
    "### column_stack"
   ]
  },
  {
   "cell_type": "code",
   "execution_count": 251,
   "id": "fe4c12fe",
   "metadata": {},
   "outputs": [
    {
     "data": {
      "text/plain": [
       "array([[22, 29, 39, 48, 32,  0],\n",
       "       [36, 24, 19, 11, 23,  1],\n",
       "       [21, 16, 20, 10, 38,  2],\n",
       "       [41, 33, 46, 14, 12,  3],\n",
       "       [43, 26, 17, 46, 38,  4]])"
      ]
     },
     "execution_count": 251,
     "metadata": {},
     "output_type": "execute_result"
    }
   ],
   "source": [
    "arr_flat = np.arange(5)\n",
    "np.column_stack((arr3, arr_flat))"
   ]
  },
  {
   "cell_type": "markdown",
   "id": "35b89dcf",
   "metadata": {},
   "source": [
    "### hsplit"
   ]
  },
  {
   "cell_type": "code",
   "execution_count": 256,
   "id": "3c9b900e",
   "metadata": {},
   "outputs": [
    {
     "name": "stdout",
     "output_type": "stream",
     "text": [
      "[[67 72 63 68]\n",
      " [17 38 39 67]\n",
      " [64 22 23 69]\n",
      " [67 35 77 57]\n",
      " [77 15 49 14]\n",
      " [31 17 59 72]\n",
      " [60 37 13 35]\n",
      " [18 79 63 53]\n",
      " [78 55 79 20]\n",
      " [51 15 31 55]]\n",
      "\n",
      "[[50 10 56 62]\n",
      " [19 11 43 73]\n",
      " [60 47 61 42]\n",
      " [58 74 59 17]\n",
      " [11 43 14 68]\n",
      " [12 45 77 39]\n",
      " [63 34 65 20]\n",
      " [77 77 73 75]\n",
      " [68 24 41 29]\n",
      " [44 34 72 31]]\n"
     ]
    }
   ],
   "source": [
    "arr_big = np.random.randint(10, 80, size = (10,8))\n",
    "arr11, arr12 = np.hsplit(arr_big, 2)  #column-wise\n",
    "print(arr11)\n",
    "print(\"\")\n",
    "print(arr12)"
   ]
  },
  {
   "cell_type": "markdown",
   "id": "da05ef64",
   "metadata": {},
   "source": [
    "### vsplit"
   ]
  },
  {
   "cell_type": "code",
   "execution_count": 238,
   "id": "165818a1",
   "metadata": {},
   "outputs": [
    {
     "data": {
      "text/plain": [
       "[array([[70, 50, 55, 22, 42, 30, 59, 61],\n",
       "        [48, 48, 48, 40, 61, 42, 72, 61],\n",
       "        [45, 54, 57, 63, 61, 68, 72, 75],\n",
       "        [16, 71, 25, 49, 76, 66, 70, 67],\n",
       "        [68, 67, 36, 14, 19, 18, 55, 20]]),\n",
       " array([[68, 19, 63, 20, 68, 10, 69, 12],\n",
       "        [73, 77, 76, 48, 30, 35, 28, 51],\n",
       "        [49, 43, 13, 23, 26, 29, 50, 30],\n",
       "        [44, 79, 36, 75, 49, 54, 10, 50],\n",
       "        [77, 24, 62, 62, 45, 32, 66, 10]])]"
      ]
     },
     "execution_count": 238,
     "metadata": {},
     "output_type": "execute_result"
    }
   ],
   "source": [
    "np.vsplit(arr_big, 2)  #row-wise"
   ]
  },
  {
   "cell_type": "markdown",
   "id": "d0ac3874",
   "metadata": {},
   "source": [
    "## Array Inspection"
   ]
  },
  {
   "cell_type": "code",
   "execution_count": 239,
   "id": "6a7180c1",
   "metadata": {},
   "outputs": [
    {
     "data": {
      "text/plain": [
       "array([[70, 50, 55, 22, 42, 30, 59, 61],\n",
       "       [48, 48, 48, 40, 61, 42, 72, 61],\n",
       "       [45, 54, 57, 63, 61, 68, 72, 75],\n",
       "       [16, 71, 25, 49, 76, 66, 70, 67],\n",
       "       [68, 67, 36, 14, 19, 18, 55, 20],\n",
       "       [68, 19, 63, 20, 68, 10, 69, 12],\n",
       "       [73, 77, 76, 48, 30, 35, 28, 51],\n",
       "       [49, 43, 13, 23, 26, 29, 50, 30],\n",
       "       [44, 79, 36, 75, 49, 54, 10, 50],\n",
       "       [77, 24, 62, 62, 45, 32, 66, 10]])"
      ]
     },
     "execution_count": 239,
     "metadata": {},
     "output_type": "execute_result"
    }
   ],
   "source": [
    "arr_big"
   ]
  },
  {
   "cell_type": "code",
   "execution_count": 240,
   "id": "af0adc7f",
   "metadata": {},
   "outputs": [
    {
     "data": {
      "text/plain": [
       "(10, 8)"
      ]
     },
     "execution_count": 240,
     "metadata": {},
     "output_type": "execute_result"
    }
   ],
   "source": [
    "arr_big.shape   #(no of rows, no of cols)"
   ]
  },
  {
   "cell_type": "code",
   "execution_count": 241,
   "id": "1f297198",
   "metadata": {},
   "outputs": [
    {
     "data": {
      "text/plain": [
       "80"
      ]
     },
     "execution_count": 241,
     "metadata": {},
     "output_type": "execute_result"
    }
   ],
   "source": [
    "arr_big.size   #total items present in the array"
   ]
  },
  {
   "cell_type": "code",
   "execution_count": 242,
   "id": "47d4565f",
   "metadata": {},
   "outputs": [
    {
     "data": {
      "text/plain": [
       "2"
      ]
     },
     "execution_count": 242,
     "metadata": {},
     "output_type": "execute_result"
    }
   ],
   "source": [
    "arr_big.ndim   #check the dimension of the array"
   ]
  },
  {
   "cell_type": "code",
   "execution_count": 243,
   "id": "18a7f8e0",
   "metadata": {},
   "outputs": [
    {
     "data": {
      "text/plain": [
       "dtype('int32')"
      ]
     },
     "execution_count": 243,
     "metadata": {},
     "output_type": "execute_result"
    }
   ],
   "source": [
    "arr_big.dtype"
   ]
  },
  {
   "cell_type": "code",
   "execution_count": 244,
   "id": "75955b26",
   "metadata": {},
   "outputs": [
    {
     "data": {
      "text/plain": [
       "array([[70, 48, 45, 16, 68, 68, 73, 49, 44, 77],\n",
       "       [50, 48, 54, 71, 67, 19, 77, 43, 79, 24],\n",
       "       [55, 48, 57, 25, 36, 63, 76, 13, 36, 62],\n",
       "       [22, 40, 63, 49, 14, 20, 48, 23, 75, 62],\n",
       "       [42, 61, 61, 76, 19, 68, 30, 26, 49, 45],\n",
       "       [30, 42, 68, 66, 18, 10, 35, 29, 54, 32],\n",
       "       [59, 72, 72, 70, 55, 69, 28, 50, 10, 66],\n",
       "       [61, 61, 75, 67, 20, 12, 51, 30, 50, 10]])"
      ]
     },
     "execution_count": 244,
     "metadata": {},
     "output_type": "execute_result"
    }
   ],
   "source": [
    "arr_big.T   #transpose of the array"
   ]
  },
  {
   "cell_type": "code",
   "execution_count": 245,
   "id": "729f49d1",
   "metadata": {},
   "outputs": [
    {
     "data": {
      "text/plain": [
       "array([70, 50, 55, 22, 42, 30, 59, 61, 48, 48, 48, 40, 61, 42, 72, 61, 45,\n",
       "       54, 57, 63, 61, 68, 72, 75, 16, 71, 25, 49, 76, 66, 70, 67, 68, 67,\n",
       "       36, 14, 19, 18, 55, 20, 68, 19, 63, 20, 68, 10, 69, 12, 73, 77, 76,\n",
       "       48, 30, 35, 28, 51, 49, 43, 13, 23, 26, 29, 50, 30, 44, 79, 36, 75,\n",
       "       49, 54, 10, 50, 77, 24, 62, 62, 45, 32, 66, 10])"
      ]
     },
     "execution_count": 245,
     "metadata": {},
     "output_type": "execute_result"
    }
   ],
   "source": [
    "arr_big.flatten()  #convert a higher dimension array to 1d"
   ]
  },
  {
   "cell_type": "code",
   "execution_count": 246,
   "id": "79ad0af0",
   "metadata": {},
   "outputs": [
    {
     "data": {
      "text/plain": [
       "array([[70, 50, 55, 22, 42],\n",
       "       [30, 59, 61, 48, 48],\n",
       "       [48, 40, 61, 42, 72],\n",
       "       [61, 45, 54, 57, 63],\n",
       "       [61, 68, 72, 75, 16],\n",
       "       [71, 25, 49, 76, 66],\n",
       "       [70, 67, 68, 67, 36],\n",
       "       [14, 19, 18, 55, 20],\n",
       "       [68, 19, 63, 20, 68],\n",
       "       [10, 69, 12, 73, 77],\n",
       "       [76, 48, 30, 35, 28],\n",
       "       [51, 49, 43, 13, 23],\n",
       "       [26, 29, 50, 30, 44],\n",
       "       [79, 36, 75, 49, 54],\n",
       "       [10, 50, 77, 24, 62],\n",
       "       [62, 45, 32, 66, 10]])"
      ]
     },
     "execution_count": 246,
     "metadata": {},
     "output_type": "execute_result"
    }
   ],
   "source": [
    "arr_big.reshape(16, -1)"
   ]
  },
  {
   "cell_type": "code",
   "execution_count": 247,
   "id": "a52ca659",
   "metadata": {},
   "outputs": [
    {
     "data": {
      "text/plain": [
       "array([[70, 50, 55, 22, 42],\n",
       "       [30, 59, 61, 48, 48],\n",
       "       [48, 40, 61, 42, 72],\n",
       "       [61, 45, 54, 57, 63],\n",
       "       [61, 68, 72, 75, 16],\n",
       "       [71, 25, 49, 76, 66],\n",
       "       [70, 67, 68, 67, 36],\n",
       "       [14, 19, 18, 55, 20],\n",
       "       [68, 19, 63, 20, 68],\n",
       "       [10, 69, 12, 73, 77],\n",
       "       [76, 48, 30, 35, 28],\n",
       "       [51, 49, 43, 13, 23],\n",
       "       [26, 29, 50, 30, 44],\n",
       "       [79, 36, 75, 49, 54],\n",
       "       [10, 50, 77, 24, 62],\n",
       "       [62, 45, 32, 66, 10]])"
      ]
     },
     "execution_count": 247,
     "metadata": {},
     "output_type": "execute_result"
    }
   ],
   "source": [
    "arr_big.reshape(-1, 5)"
   ]
  }
 ],
 "metadata": {
  "kernelspec": {
   "display_name": "Python 3",
   "language": "python",
   "name": "python3"
  },
  "language_info": {
   "codemirror_mode": {
    "name": "ipython",
    "version": 3
   },
   "file_extension": ".py",
   "mimetype": "text/x-python",
   "name": "python",
   "nbconvert_exporter": "python",
   "pygments_lexer": "ipython3",
   "version": "3.11.5"
  }
 },
 "nbformat": 4,
 "nbformat_minor": 5
}
